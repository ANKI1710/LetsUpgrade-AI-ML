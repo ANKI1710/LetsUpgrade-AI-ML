{
 "cells": [
  {
   "cell_type": "markdown",
   "metadata": {},
   "source": [
    "Answer 1:"
   ]
  },
  {
   "cell_type": "code",
   "execution_count": 4,
   "metadata": {},
   "outputs": [
    {
     "name": "stdout",
     "output_type": "stream",
     "text": [
      "addition:  (9+20j)\n",
      "subtraction:  (-3-12j)\n",
      "multiplication:  (30+80j)\n",
      "division:  (3+8j)\n"
     ]
    }
   ],
   "source": [
    "a= 6+16j\n",
    "b= 3+4j\n",
    "print(\"addition: \",a+b)\n",
    "print(\"subtraction: \",b-a)\n",
    "print(\"multiplication: \",a*5)\n",
    "print(\"division: \",a/2)\n",
    "#print(\"floor division: \",a//3) #floor division cannot be perfomed for complex numbers\n",
    "#print(\"modulo: \",a%2) #modulo cannot be perfomed for complex numbers"
   ]
  },
  {
   "cell_type": "markdown",
   "metadata": {},
   "source": [
    "Answer 2:"
   ]
  },
  {
   "cell_type": "markdown",
   "metadata": {},
   "source": [
    "Range() function in python returns a sequence of numbers incremented by 1 as default.\n",
    "it takes 3 arguments start, stop, step.\n",
    "\n",
    "start: optional. to specify the start number, by default starts from 0.\n",
    "stop:required. to specify where to stop the sequence.\n",
    "step: optional. an integer to specify the incrementation, by default takes 1.\n",
    "\n",
    "syntax: range(2,10,1)"
   ]
  },
  {
   "cell_type": "code",
   "execution_count": 15,
   "metadata": {},
   "outputs": [
    {
     "name": "stdout",
     "output_type": "stream",
     "text": [
      "range of a:  2\n",
      "range of a:  3\n",
      "range of a:  4\n",
      "range of a:  5\n",
      "range of a:  6\n",
      "range of a:  7\n",
      "range of a:  8\n",
      "range of b:  2\n",
      "range of b:  4\n",
      "range of b:  6\n",
      "range of b:  8\n"
     ]
    }
   ],
   "source": [
    "a=range(2,9)\n",
    "b=range(2,10,2)\n",
    "for i in a:\n",
    "    print(\"range of a: \",i)\n",
    "for j in b:\n",
    "    print(\"range of b: \",j)"
   ]
  },
  {
   "cell_type": "markdown",
   "metadata": {},
   "source": [
    "Answer 3:"
   ]
  },
  {
   "cell_type": "code",
   "execution_count": 5,
   "metadata": {},
   "outputs": [
    {
     "name": "stdout",
     "output_type": "stream",
     "text": [
      "Multiplication result:  7875\n"
     ]
    }
   ],
   "source": [
    "a=105\n",
    "b=75\n",
    "if (a-b)>25:\n",
    "    print(\"Multiplication result: \",a*b)\n",
    "else:\n",
    "    print(\"Division result: \",a/b)"
   ]
  },
  {
   "cell_type": "markdown",
   "metadata": {},
   "source": [
    "Answer 4:"
   ]
  },
  {
   "cell_type": "code",
   "execution_count": 9,
   "metadata": {},
   "outputs": [
    {
     "name": "stdout",
     "output_type": "stream",
     "text": [
      "square of  6 minus 2 is  34\n",
      "square of  4 minus 2 is  14\n",
      "square of  8 minus 2 is  62\n",
      "square of  12 minus 2 is  142\n",
      "square of  10 minus 2 is  98\n",
      "square of  2 minus 2 is  2\n"
     ]
    }
   ],
   "source": [
    "list=[5,6,7,9,11,4,8,12,10,2]\n",
    "for i in list:\n",
    "    if i%2 == 0:\n",
    "        print(\"square of \",i,\"minus 2 is \",(i**2)-2)"
   ]
  },
  {
   "cell_type": "markdown",
   "metadata": {},
   "source": [
    "Answer 5:"
   ]
  },
  {
   "cell_type": "code",
   "execution_count": 11,
   "metadata": {},
   "outputs": [
    {
     "name": "stdout",
     "output_type": "stream",
     "text": [
      "List element  25 is greater than 7\n",
      "List element  16 is greater than 7\n",
      "List element  19 is greater than 7\n",
      "List element  34 is greater than 7\n",
      "List element  70 is greater than 7\n"
     ]
    }
   ],
   "source": [
    "list=[25,16,7,19,11,34,8,12,70,2]\n",
    "for i in list:\n",
    "    if i/2 > 7:\n",
    "        print(\"List element \",i,\"is greater than 7\")"
   ]
  }
 ],
 "metadata": {
  "kernelspec": {
   "display_name": "Python 3",
   "language": "python",
   "name": "python3"
  },
  "language_info": {
   "codemirror_mode": {
    "name": "ipython",
    "version": 3
   },
   "file_extension": ".py",
   "mimetype": "text/x-python",
   "name": "python",
   "nbconvert_exporter": "python",
   "pygments_lexer": "ipython3",
   "version": "3.7.6"
  }
 },
 "nbformat": 4,
 "nbformat_minor": 4
}
